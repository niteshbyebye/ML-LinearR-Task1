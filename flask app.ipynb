{
 "cells": [
  {
   "cell_type": "code",
   "execution_count": 7,
   "id": "ebb7c6f6",
   "metadata": {},
   "outputs": [],
   "source": [
    "from flask import Flask, render_template, request\n",
    "from joblib import load\n",
    "model = load('car_pred.joblib')\n",
    "\n",
    "app = Flask(__name__)\n",
    "\n",
    "def convert(L):\n",
    "    K = model.predict(L)\n",
    "    return int(K[0])"
   ]
  },
  {
   "cell_type": "code",
   "execution_count": 8,
   "id": "eddacd7d",
   "metadata": {},
   "outputs": [],
   "source": [
    "@app.route('/')\n",
    "def func():\n",
    "    return render_template('index.html', act = False)\n",
    "\n",
    "@app.route('/sol', methods =['GET', 'POST'])\n",
    "def fun2():\n",
    "    if(request.method == 'POST'):\n",
    "        model = int(request.form['model'])\n",
    "        color = int(request.form['color'])\n",
    "        body_type = int(request.form['body_type'])\n",
    "        gear = int(request.form['gear'])\n",
    "        km = int(request.form['km'])\n",
    "        \n",
    "        Alloy_wheels = 1 if request.form.get('Alloy_wheels') != None else 0\n",
    "        CC = 1 if request.form.get('CC') != None else 0\n",
    "        VC = 1 if request.form.get('VC') != None else 0\n",
    "        SS = 1 if request.form.get('SS') != None else 0\n",
    "        SP = 1 if request.form.get('SP') != None else 0\n",
    "        SPP = 1 if request.form.get('SPP') != None else 0\n",
    "        SPL = 1 if request.form.get('SPL') != None else 0\n",
    "        WT = 1 if request.form.get('WT') != None else 0\n",
    "        TS = 1 if request.form.get('TS') != None else 0\n",
    "        HP = 1 if request.form.get('HP') != None else 0\n",
    "        TH = 1 if request.form.get('TH') != None else 0\n",
    "        RC = 1 if request.form.get('RC') != None else 0\n",
    "        CRC = 1 if request.form.get('CRC') != None else 0\n",
    "        TNC = 1 if request.form.get('TNC') != None else 0\n",
    "        SKB = 1 if request.form.get('SKB') != None else 0\n",
    "        RHD = 1 if request.form.get('RHD') != None else 0\n",
    "        \n",
    "        l=[[model, body_type, color, km, gear, Alloy_wheels, CC, VC, SS, SP, SPP, SPL, WT,TS, HP,TH,\n",
    "          RC,CRC,TNC,SKB,RHD]]\n",
    "        \n",
    "        ans = convert(l)\n",
    "        act = True\n",
    "\n",
    "\n",
    "    \n",
    "    return render_template('index.html', act= act, ans=ans)\n"
   ]
  },
  {
   "cell_type": "code",
   "execution_count": 9,
   "id": "7cc3ea5e",
   "metadata": {},
   "outputs": [
    {
     "name": "stdout",
     "output_type": "stream",
     "text": [
      " * Serving Flask app \"__main__\" (lazy loading)\n",
      " * Environment: production\n",
      "   WARNING: This is a development server. Do not use it in a production deployment.\n",
      "   Use a production WSGI server instead.\n",
      " * Debug mode: off\n"
     ]
    },
    {
     "name": "stderr",
     "output_type": "stream",
     "text": [
      " * Running on http://127.0.0.1:5000/ (Press CTRL+C to quit)\n",
      "127.0.0.1 - - [03/Oct/2021 03:01:58] \"\u001b[37mGET / HTTP/1.1\u001b[0m\" 200 -\n",
      "127.0.0.1 - - [03/Oct/2021 03:02:13] \"\u001b[37mPOST /sol HTTP/1.1\u001b[0m\" 200 -\n"
     ]
    }
   ],
   "source": [
    "if __name__ == '__main__':\n",
    "    app.run()"
   ]
  },
  {
   "cell_type": "code",
   "execution_count": null,
   "id": "86dd110e",
   "metadata": {},
   "outputs": [],
   "source": [
    "len([1, 2, 2, 1000, 2, 0, 1, 0, 0, 0, 1, 0, 0, 0, 1, 0, 0, 0, 0, 0, 0])\n"
   ]
  },
  {
   "cell_type": "code",
   "execution_count": null,
   "id": "520c168b",
   "metadata": {},
   "outputs": [],
   "source": []
  }
 ],
 "metadata": {
  "kernelspec": {
   "display_name": "Python 3",
   "language": "python",
   "name": "python3"
  },
  "language_info": {
   "codemirror_mode": {
    "name": "ipython",
    "version": 3
   },
   "file_extension": ".py",
   "mimetype": "text/x-python",
   "name": "python",
   "nbconvert_exporter": "python",
   "pygments_lexer": "ipython3",
   "version": "3.8.8"
  }
 },
 "nbformat": 4,
 "nbformat_minor": 5
}
